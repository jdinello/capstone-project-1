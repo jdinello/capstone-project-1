{
 "cells": [
  {
   "cell_type": "markdown",
   "metadata": {},
   "source": [
    "# Scraping a Dataset of Chipotle Locations\n",
    "In an effort to obtain supporting data for a project regarding Chipotle Locations, I am going to to scrape information from Chipotles website and create a dataset that give me the address, coordinates, and store titles for every Chipotle Location in the United States."
   ]
  },
  {
   "cell_type": "code",
   "execution_count": 1,
   "metadata": {},
   "outputs": [],
   "source": [
    "import requests\n",
    "from bs4 import BeautifulSoup\n",
    "import collections\n",
    "import itertools\n",
    "import re\n",
    "import pandas as pd\n",
    "import numpy as np"
   ]
  },
  {
   "cell_type": "code",
   "execution_count": 2,
   "metadata": {},
   "outputs": [],
   "source": [
    "chipotle_locations = requests.get('https://locations.chipotle.com/index.html')"
   ]
  },
  {
   "cell_type": "code",
   "execution_count": 3,
   "metadata": {},
   "outputs": [
    {
     "data": {
      "text/plain": [
       "{'Date': 'Tue, 03 Sep 2019 19:35:02 GMT', 'Content-Type': 'text/html; charset=utf-8', 'Transfer-Encoding': 'chunked', 'Connection': 'keep-alive', 'Set-Cookie': '__cfduid=dd3a5324aed26552878041a15df9fec101567539302; expires=Wed, 02-Sep-20 19:35:02 GMT; path=/; domain=.locations.chipotle.com; HttpOnly', 'Content-Encoding': 'gzip', 'Etag': '\"25a764226fd929998864f1c8dc919389\"-gzip', 'Last-Modified': 'Tue, 03 Sep 2019 18:14:18 GMT', 'Surrogate-Key': 'locations.chipotle.com, locations.chipotle.com/index.html', 'Vary': 'Accept-Encoding', 'X-Amz-Id-2': '8DB5V4l5mMw7kNIfKKL00b39rpEbFdvwMmMav7wMirZkC0LWZBwlcD4boOjxyOszpEsAF7yK7Oc=', 'X-Amz-Request-Id': 'FB3F4A6F7B464249', 'X-Amz-Server-Side-Encryption': 'AES256', 'X-Amz-Version-Id': 'null', 'X-Yext-Site': 'us2', 'CF-Cache-Status': 'HIT', 'Age': '533', 'Expect-CT': 'max-age=604800, report-uri=\"https://report-uri.cloudflare.com/cdn-cgi/beacon/expect-ct\"', 'Server': 'cloudflare', 'CF-RAY': '510a2a2348bc92e0-SJC'}"
      ]
     },
     "execution_count": 3,
     "metadata": {},
     "output_type": "execute_result"
    }
   ],
   "source": [
    "chipotle_locations.headers"
   ]
  },
  {
   "cell_type": "code",
   "execution_count": 4,
   "metadata": {},
   "outputs": [
    {
     "data": {
      "text/plain": [
       "\u001b[1;31mType:\u001b[0m        Response\n",
       "\u001b[1;31mString form:\u001b[0m <Response [200]>\n",
       "\u001b[1;31mFile:\u001b[0m        c:\\users\\jean\\anaconda3\\lib\\site-packages\\requests\\models.py\n",
       "\u001b[1;31mDocstring:\u001b[0m  \n",
       "The :class:`Response <Response>` object, which contains a\n",
       "server's response to an HTTP request.\n"
      ]
     },
     "metadata": {},
     "output_type": "display_data"
    }
   ],
   "source": [
    "?chipotle_locations"
   ]
  },
  {
   "cell_type": "code",
   "execution_count": 5,
   "metadata": {},
   "outputs": [
    {
     "name": "stdout",
     "output_type": "stream",
     "text": [
      "Object `bs4` not found.\n"
     ]
    }
   ],
   "source": [
    "?bs4"
   ]
  },
  {
   "cell_type": "code",
   "execution_count": 6,
   "metadata": {},
   "outputs": [],
   "source": [
    "c = chipotle_locations.content"
   ]
  },
  {
   "cell_type": "code",
   "execution_count": 7,
   "metadata": {},
   "outputs": [],
   "source": [
    "soup = BeautifulSoup(c, 'html.parser')"
   ]
  },
  {
   "cell_type": "code",
   "execution_count": 8,
   "metadata": {},
   "outputs": [],
   "source": [
    "states = soup.findAll(\"a\", {\"class\":\"Directory-listLink\"})"
   ]
  },
  {
   "cell_type": "code",
   "execution_count": 9,
   "metadata": {},
   "outputs": [],
   "source": [
    "states_dict = {}\n",
    "states_dc = {}\n",
    "for state in states:\n",
    "    state_name = state.string\n",
    "    state_link = 'https://locations.chipotle.com/' + state.attrs['href']\n",
    "    data_count = int(str(state.attrs['data-count']).replace('(','').replace(')',''))\n",
    "    states_dict[state_name] = state_link\n",
    "    states_dc[state_name] = data_count"
   ]
  },
  {
   "cell_type": "code",
   "execution_count": 10,
   "metadata": {},
   "outputs": [],
   "source": [
    "locations_dict = {}\n",
    "all_cities = []\n",
    "all_links = []\n",
    "all_city_counts = {}\n",
    "for state, link in states_dict.items():\n",
    "    c = requests.get(link).content\n",
    "    soup = BeautifulSoup(c)\n",
    "    cities = soup.findAll('a', {'class':'Directory-listLink'})\n",
    "    city_list = [city.string for city in cities]\n",
    "    url_list = [link[:-2] + city.attrs['href'] for city in cities]\n",
    "    shop_counts_per_city = [int(city.attrs['data-count'].replace('(', '').replace(')', '')) for city in cities]\n",
    "    city_url = dict(zip(city_list, url_list))\n",
    "    city_shop_count = dict(zip(city_list, shop_counts_per_city))\n",
    "    all_city_counts[state] = city_shop_count\n",
    "    locations_dict[state] = city_url\n",
    "    all_cities.extend(city_list)\n",
    "    all_links.extend(url_list)\n",
    "        \n",
    "        \n",
    "\n",
    "all_city_urls = dict(zip(all_cities, all_links))"
   ]
  },
  {
   "cell_type": "code",
   "execution_count": 11,
   "metadata": {},
   "outputs": [],
   "source": [
    "all_city_counts['Mississippi'] = {'Oxford': 1}\n",
    "all_city_counts['North Dakota'] = {'Fargo': 1}\n",
    "all_city_counts['Vermont'] = {'Burlington': 1}\n",
    "all_city_counts['Washington DC'] = {'Washington DC': 21}\n",
    "all_city_counts['Wyoming'] = {'Cheyenne': 1}    "
   ]
  },
  {
   "cell_type": "markdown",
   "metadata": {},
   "source": [
    "In an effort to create a uniform format for my city-count dictionary, those states which only had one location had to be manually inputted."
   ]
  },
  {
   "cell_type": "code",
   "execution_count": 12,
   "metadata": {},
   "outputs": [],
   "source": [
    "# Used to correct an error on the small amount of states with either one location or one city like Washington D.C\n",
    "locations_dict['Mississippi'] = {'Oxford':'https://locations.chipotle.com/ms/oxford/2151-jackson-ave-w'}\n",
    "locations_dict['North Dakota'] = {'Fargo':'https://locations.chipotle.com/nd/fargo/1680-45th-st-s'}\n",
    "locations_dict['Vermont'] = {'Burlington': 'https://locations.chipotle.com/vt/burlington/580-shelburne-rd'}\n",
    "locations_dict['Washington DC'] = {'Washington DC': 'https://locations.chipotle.com/dc/washington'}\n",
    "locations_dict['Wyoming'] = {'Cheyenne': 'https://locations.chipotle.com/wy/cheyenne/1508-dell-range-blvd'}"
   ]
  },
  {
   "cell_type": "code",
   "execution_count": 13,
   "metadata": {},
   "outputs": [
    {
     "name": "stdout",
     "output_type": "stream",
     "text": [
      "21\n"
     ]
    }
   ],
   "source": [
    "r = requests.get(states_dict['Washington DC']).content\n",
    "soup = BeautifulSoup(r)\n",
    "num_stores = int(str(soup.find('h1', {'class': 'Directory-title'}).string)[0:3].strip())\n",
    "print(num_stores)"
   ]
  },
  {
   "cell_type": "markdown",
   "metadata": {},
   "source": [
    "Washington D.C in particular threw me a curveball due to the fact that it is a Major City with many Chipotles but does not belong to any State. For this reason, I chose to include the Nation's Capital as both a city and a state."
   ]
  },
  {
   "cell_type": "code",
   "execution_count": 14,
   "metadata": {},
   "outputs": [
    {
     "data": {
      "text/plain": [
       "[<span class=\"coordinates\" itemprop=\"geo\" itemscope=\"\" itemtype=\"http://schema.org/GeoCoordinates\"><meta content=\"38.94120080026161\" itemprop=\"latitude\"/><meta content=\"-121.09614846331169\" itemprop=\"longitude\"/></span>,\n",
       " <span class=\"coordinates\" itemprop=\"geo\" itemscope=\"\" itemtype=\"http://schema.org/GeoCoordinates\"><meta content=\"38.94120080026161\" itemprop=\"latitude\"/><meta content=\"-121.09614846331169\" itemprop=\"longitude\"/></span>]"
      ]
     },
     "execution_count": 14,
     "metadata": {},
     "output_type": "execute_result"
    }
   ],
   "source": [
    "t = list(all_city_urls.items())[0]\n",
    "q = requests.get(t[1]).content\n",
    "soup = BeautifulSoup(q)\n",
    "locdat = soup.findAll('span', {'class':'coordinates'})\n",
    "locdat"
   ]
  },
  {
   "cell_type": "code",
   "execution_count": 15,
   "metadata": {},
   "outputs": [],
   "source": [
    "\n",
    "r = requests.get(states_dict['Alabama']).content\n",
    "soup = BeautifulSoup(r)\n",
    "loc = soup.findAll('a', {'class': 'Directory-listLink'})\n",
    "\n",
    "    "
   ]
  },
  {
   "cell_type": "code",
   "execution_count": 16,
   "metadata": {},
   "outputs": [
    {
     "data": {
      "text/plain": [
       "False"
      ]
     },
     "execution_count": 16,
     "metadata": {},
     "output_type": "execute_result"
    }
   ],
   "source": [
    "one_shop_cities = collections.defaultdict(list)\n",
    "for state in all_city_counts.keys():\n",
    "    for city, count in all_city_counts[state].items():\n",
    "        if count == 1:\n",
    "            one_shop_cities[state].append(city)\n",
    "\n",
    "\n",
    "'Periora' in one_shop_cities"
   ]
  },
  {
   "cell_type": "markdown",
   "metadata": {},
   "source": [
    "When a state has only one location the link for the states page will take you directly to that locations site. Otherwise you are directed to site that contains links for every city within the state. When a city has a single location you are directed straight to that locations site otherwise you are taken to a page for the city that shows the links for all of the locations for that city. I created specific dictionaries for these special cases to ensure that the algorithm takes these conditions into account."
   ]
  },
  {
   "cell_type": "code",
   "execution_count": 17,
   "metadata": {},
   "outputs": [],
   "source": [
    "for city, link in locations_dict['Arizona'].items():\n",
    "    r = requests.get(link).content\n",
    "    soup = BeautifulSoup(r)\n",
    "    if city not in one_shop_cities['Arizona']:\n",
    "        num_stores = all_city_counts['Arizona'][city]\n",
    "        store_titles = [store.string for store in soup.findAll('span', {'class': 'LocationName'})]\n",
    "        store_links = ['https://locations.chipotle.com' + str(loclink.attrs['href']).replace('..','') for loclink in soup.findAll('a', {'class': 'Teaser-titleLink'})]\n",
    "        if num_stores != len(store_titles) or num_stores != len(store_links):\n",
    "            print(city, num_stores, store_titles, store_links)\n",
    "            print('\\n')"
   ]
  },
  {
   "cell_type": "code",
   "execution_count": 18,
   "metadata": {},
   "outputs": [
    {
     "data": {
      "text/plain": [
       "2"
      ]
     },
     "execution_count": 18,
     "metadata": {},
     "output_type": "execute_result"
    }
   ],
   "source": [
    "all_city_counts['California']['San Rafael']"
   ]
  },
  {
   "cell_type": "code",
   "execution_count": 19,
   "metadata": {},
   "outputs": [],
   "source": [
    "locations_csv_frame = [['store_title', 'street_address', 'state', 'city', 'latitude', 'longitude']] \n",
    "for state in locations_dict.keys():\n",
    "    for city, link in locations_dict[state].items():\n",
    "        r = requests.get(link).content\n",
    "        soup = BeautifulSoup(r)\n",
    "        if city in one_shop_cities[state]:\n",
    "            latitude = soup.find('meta', {'itemprop': 'latitude'}).attrs['content']\n",
    "            longitude = soup.find('meta', {'itemprop': 'longitude'}).attrs['content']\n",
    "            store_title = soup.find('h1', {'class': 'Hero-title'}).string\n",
    "            street_address = soup.find('meta', {'itemprop': 'streetAddress'}).attrs['content']\n",
    "            locations_csv_frame.append([store_title, street_address, state, city, latitude, longitude])\n",
    "        else:\n",
    "            num_stores = all_city_counts[state][city]\n",
    "            store_titles =[(title.string) for title in soup.findAll('span', {'class': 'LocationName'})]\n",
    "            store_links = ['https://locations.chipotle.com' + str(loclink.attrs['href']).replace('..', '') for loclink in soup.findAll('a', {'class': 'Teaser-titleLink'})]\n",
    "            for i in range(num_stores):\n",
    "                store_r = requests.get(store_links[i]).content\n",
    "                store_soup = BeautifulSoup(store_r)\n",
    "                latitude = store_soup.find('meta', {'itemprop': 'latitude'}).attrs['content']\n",
    "                longitude = store_soup.find('meta', {'itemprop': 'longitude'}).attrs['content']\n",
    "                street_address = store_soup.find('meta', {'itemprop': 'streetAddress'}).attrs['content']\n",
    "                locations_csv_frame.append([store_titles[i], street_address, state, city, latitude, longitude])\n",
    "                \n",
    "                \n",
    "        \n",
    "         "
   ]
  },
  {
   "cell_type": "code",
   "execution_count": 20,
   "metadata": {},
   "outputs": [
    {
     "data": {
      "text/html": [
       "<div>\n",
       "<style scoped>\n",
       "    .dataframe tbody tr th:only-of-type {\n",
       "        vertical-align: middle;\n",
       "    }\n",
       "\n",
       "    .dataframe tbody tr th {\n",
       "        vertical-align: top;\n",
       "    }\n",
       "\n",
       "    .dataframe thead th {\n",
       "        text-align: right;\n",
       "    }\n",
       "</style>\n",
       "<table border=\"1\" class=\"dataframe\">\n",
       "  <thead>\n",
       "    <tr style=\"text-align: right;\">\n",
       "      <th></th>\n",
       "      <th>store_title</th>\n",
       "      <th>street_address</th>\n",
       "      <th>state</th>\n",
       "      <th>city</th>\n",
       "      <th>latitude</th>\n",
       "      <th>longitude</th>\n",
       "    </tr>\n",
       "  </thead>\n",
       "  <tbody>\n",
       "    <tr>\n",
       "      <th>0</th>\n",
       "      <td>Chipotle Auburn Campus</td>\n",
       "      <td>None</td>\n",
       "      <td>Alabama</td>\n",
       "      <td>Auburn</td>\n",
       "      <td>32.606812966051244</td>\n",
       "      <td>-85.48732833164195</td>\n",
       "    </tr>\n",
       "    <tr>\n",
       "      <th>1</th>\n",
       "      <td>Chipotle UAB Birmingham</td>\n",
       "      <td>300 20th St S</td>\n",
       "      <td>Alabama</td>\n",
       "      <td>Birmingham</td>\n",
       "      <td>33.509721495414745</td>\n",
       "      <td>-86.80275567068401</td>\n",
       "    </tr>\n",
       "    <tr>\n",
       "      <th>2</th>\n",
       "      <td>Chipotle Trussville</td>\n",
       "      <td>3220 Morrow Rd</td>\n",
       "      <td>Alabama</td>\n",
       "      <td>Birmingham</td>\n",
       "      <td>33.59558141391436</td>\n",
       "      <td>-86.64743684970284</td>\n",
       "    </tr>\n",
       "    <tr>\n",
       "      <th>3</th>\n",
       "      <td>Chipotle Inverness</td>\n",
       "      <td>4719 Highway 280</td>\n",
       "      <td>Alabama</td>\n",
       "      <td>Birmingham</td>\n",
       "      <td>33.42258214624579</td>\n",
       "      <td>-86.69827946502971</td>\n",
       "    </tr>\n",
       "    <tr>\n",
       "      <th>4</th>\n",
       "      <td>Chipotle Riverchase</td>\n",
       "      <td>None</td>\n",
       "      <td>Alabama</td>\n",
       "      <td>Hoover</td>\n",
       "      <td>33.37895802956859</td>\n",
       "      <td>-86.80380210088629</td>\n",
       "    </tr>\n",
       "  </tbody>\n",
       "</table>\n",
       "</div>"
      ],
      "text/plain": [
       "               store_title    street_address    state        city  \\\n",
       "0   Chipotle Auburn Campus              None  Alabama      Auburn   \n",
       "1  Chipotle UAB Birmingham     300 20th St S  Alabama  Birmingham   \n",
       "2      Chipotle Trussville    3220 Morrow Rd  Alabama  Birmingham   \n",
       "3       Chipotle Inverness  4719 Highway 280  Alabama  Birmingham   \n",
       "4      Chipotle Riverchase              None  Alabama      Hoover   \n",
       "\n",
       "             latitude           longitude  \n",
       "0  32.606812966051244  -85.48732833164195  \n",
       "1  33.509721495414745  -86.80275567068401  \n",
       "2   33.59558141391436  -86.64743684970284  \n",
       "3   33.42258214624579  -86.69827946502971  \n",
       "4   33.37895802956859  -86.80380210088629  "
      ]
     },
     "execution_count": 20,
     "metadata": {},
     "output_type": "execute_result"
    }
   ],
   "source": [
    "chipotle_loc_df = pd.DataFrame(locations_csv_frame[1:], columns=locations_csv_frame[0])\n",
    "\n",
    "chipotle_loc_df.head()"
   ]
  },
  {
   "cell_type": "code",
   "execution_count": 21,
   "metadata": {},
   "outputs": [
    {
     "data": {
      "text/html": [
       "<div>\n",
       "<style scoped>\n",
       "    .dataframe tbody tr th:only-of-type {\n",
       "        vertical-align: middle;\n",
       "    }\n",
       "\n",
       "    .dataframe tbody tr th {\n",
       "        vertical-align: top;\n",
       "    }\n",
       "\n",
       "    .dataframe thead th {\n",
       "        text-align: right;\n",
       "    }\n",
       "</style>\n",
       "<table border=\"1\" class=\"dataframe\">\n",
       "  <thead>\n",
       "    <tr style=\"text-align: right;\">\n",
       "      <th></th>\n",
       "      <th>Store Title</th>\n",
       "      <th>State</th>\n",
       "      <th>City</th>\n",
       "      <th>Latitude</th>\n",
       "      <th>Longitude</th>\n",
       "    </tr>\n",
       "  </thead>\n",
       "  <tbody>\n",
       "    <tr>\n",
       "      <th>450</th>\n",
       "      <td>Chipotle San Rafael Montecito Plaza</td>\n",
       "      <td>California</td>\n",
       "      <td>San Rafael</td>\n",
       "      <td>37.96956572128692</td>\n",
       "      <td>-122.5167520404928</td>\n",
       "    </tr>\n",
       "    <tr>\n",
       "      <th>451</th>\n",
       "      <td>Chipotle San Rafael</td>\n",
       "      <td>California</td>\n",
       "      <td>San Rafael</td>\n",
       "      <td>38.0042166</td>\n",
       "      <td>-122.544202</td>\n",
       "    </tr>\n",
       "  </tbody>\n",
       "</table>\n",
       "</div>"
      ],
      "text/plain": [
       "                             Store Title       State        City  \\\n",
       "450  Chipotle San Rafael Montecito Plaza  California  San Rafael   \n",
       "451                  Chipotle San Rafael  California  San Rafael   \n",
       "\n",
       "              Latitude           Longitude  \n",
       "450  37.96956572128692  -122.5167520404928  \n",
       "451         38.0042166         -122.544202  "
      ]
     },
     "execution_count": 21,
     "metadata": {},
     "output_type": "execute_result"
    }
   ],
   "source": [
    "cdf = chipotle_loc_df\n",
    "cdf[cdf['city'] == 'San Rafael']"
   ]
  },
  {
   "cell_type": "code",
   "execution_count": 22,
   "metadata": {},
   "outputs": [
    {
     "data": {
      "text/plain": [
       "State\n",
       "California          415\n",
       "Texas               205\n",
       "Ohio                181\n",
       "Florida             162\n",
       "New York            153\n",
       "Illinois            139\n",
       "Virginia            104\n",
       "Maryland             91\n",
       "Pennsylvania         90\n",
       "Arizona              80\n",
       "Colorado             77\n",
       "Minnesota            66\n",
       "New Jersey           64\n",
       "North Carolina       63\n",
       "Massachusetts        60\n",
       "Georgia              53\n",
       "Missouri             39\n",
       "Washington           39\n",
       "Michigan             37\n",
       "Indiana              37\n",
       "Oregon               31\n",
       "Kansas               28\n",
       "Nevada               27\n",
       "Connecticut          24\n",
       "Tennessee            22\n",
       "South Carolina       21\n",
       "Washington DC        21\n",
       "Kentucky             19\n",
       "Wisconsin            19\n",
       "Ontario              17\n",
       "Alabama              14\n",
       "Oklahoma             12\n",
       "Utah                 11\n",
       "Louisiana            10\n",
       "Iowa                 10\n",
       "Nebraska              9\n",
       "New Mexico            8\n",
       "Rhode Island          8\n",
       "Delaware              8\n",
       "New Hampshire         8\n",
       "British Columbia      6\n",
       "Arkansas              6\n",
       "Maine                 5\n",
       "West Virginia         5\n",
       "Idaho                 4\n",
       "Montana               3\n",
       "Mississippi           1\n",
       "North Dakota          1\n",
       "Vermont               1\n",
       "Wyoming               1\n",
       "dtype: int64"
      ]
     },
     "execution_count": 22,
     "metadata": {},
     "output_type": "execute_result"
    }
   ],
   "source": [
    "cdf.groupby('state').size().sort_values(ascending=False)"
   ]
  },
  {
   "cell_type": "code",
   "execution_count": 23,
   "metadata": {},
   "outputs": [],
   "source": [
    "cdf.to_csv(r'C:/Users/dinel/Documents/capstone_project_1/chipotle_locations.csv')"
   ]
  },
  {
   "cell_type": "code",
   "execution_count": null,
   "metadata": {},
   "outputs": [],
   "source": []
  }
 ],
 "metadata": {
  "kernelspec": {
   "display_name": "Python 3",
   "language": "python",
   "name": "python3"
  },
  "language_info": {
   "codemirror_mode": {
    "name": "ipython",
    "version": 3
   },
   "file_extension": ".py",
   "mimetype": "text/x-python",
   "name": "python",
   "nbconvert_exporter": "python",
   "pygments_lexer": "ipython3",
   "version": "3.7.3"
  }
 },
 "nbformat": 4,
 "nbformat_minor": 4
}
